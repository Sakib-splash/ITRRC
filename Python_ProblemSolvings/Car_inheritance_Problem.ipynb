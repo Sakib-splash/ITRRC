{
  "nbformat": 4,
  "nbformat_minor": 0,
  "metadata": {
    "colab": {
      "provenance": [],
      "toc_visible": true
    },
    "kernelspec": {
      "name": "python3",
      "display_name": "Python 3"
    },
    "language_info": {
      "name": "python"
    }
  },
  "cells": [
    {
      "cell_type": "code",
      "source": [
        "from abc import ABC, abstractmethod\n",
        "\n",
        "# Abstract Base Class\n",
        "class Vehicle(ABC):\n",
        "    def __init__(self, brand, model, year):\n",
        "        self._brand = brand\n",
        "        self._model = model\n",
        "        self._year = year\n",
        "        self._speed = 0  # Default speed is 0\n",
        "\n",
        "    # Getter Methods\n",
        "    def get_brand(self):\n",
        "        return self._brand\n",
        "\n",
        "    def get_model(self):\n",
        "        return self._model\n",
        "\n",
        "    def get_year(self):\n",
        "        return self._year\n",
        "\n",
        "    def get_speed(self):\n",
        "        return self._speed\n",
        "\n",
        "    # Setter Methods\n",
        "    def set_brand(self, brand):\n",
        "        self._brand = brand\n",
        "\n",
        "    def set_model(self, model):\n",
        "        self._model = model\n",
        "\n",
        "    def set_year(self, year):\n",
        "        self._year = year\n",
        "\n",
        "    def set_speed(self, speed):\n",
        "        self._speed = max(0, speed)  # Ensure speed is non-negative\n",
        "\n",
        "    @abstractmethod\n",
        "    def accelerate(self):\n",
        "        pass\n",
        "\n",
        "    @abstractmethod\n",
        "    def brake(self):\n",
        "        pass\n",
        "\n",
        "    def display_info(self):\n",
        "        print(f\"Brand: {self._brand}, Model: {self._model}, Year: {self._year}, Speed: {self._speed}\")\n",
        "\n",
        "# Derived Class: Car\n",
        "class Car(Vehicle):\n",
        "    def __init__(self, brand, model, year, fuel_type):\n",
        "        super().__init__(brand, model, year)\n",
        "        self._fuel_type = fuel_type  # Private attribute\n",
        "\n",
        "    def get_fuel_type(self):\n",
        "        return self._fuel_type\n",
        "\n",
        "    def set_fuel_type(self, fuel_type):\n",
        "        self._fuel_type = fuel_type\n",
        "\n",
        "    def accelerate(self):\n",
        "        self._speed += 10\n",
        "        print(f\"Car accelerated! New speed: {self._speed}\")\n",
        "\n",
        "    def brake(self):\n",
        "        self._speed = max(0, self._speed - 5)\n",
        "        print(f\"Car slowed down. New speed: {self._speed}\")\n",
        "\n",
        "# Derived Class: Bike\n",
        "class Bike(Vehicle):\n",
        "    def __init__(self, brand, model, year, has_gear):\n",
        "        super().__init__(brand, model, year)\n",
        "        self._has_gear = has_gear  # Private attribute\n",
        "\n",
        "    def get_has_gear(self):\n",
        "        return self._has_gear\n",
        "\n",
        "    def set_has_gear(self, has_gear):\n",
        "        self._has_gear = has_gear\n",
        "\n",
        "    def accelerate(self):\n",
        "        self._speed += 5\n",
        "        print(f\"Bike accelerated! New speed: {self._speed}\")\n",
        "\n",
        "    def brake(self):\n",
        "        self._speed = max(0, self._speed - 3)\n",
        "        print(f\"Bike slowed down. New speed: {self._speed}\")\n",
        "\n",
        "# Demonstration of Polymorphism\n",
        "car = Car(\"Toyota\", \"Camry\", 2022, \"Petrol\")\n",
        "bike = Bike(\"Yamaha\", \"MT-15\", 2023, True)\n",
        "\n",
        "print(\"\\n--- Car Details ---\")\n",
        "car.display_info()\n",
        "car.accelerate()\n",
        "car.brake()\n",
        "\n",
        "print(\"\\n--- Bike Details ---\")\n",
        "bike.display_info()\n",
        "bike.accelerate()\n",
        "bike.brake()\n"
      ],
      "metadata": {
        "id": "CbAv-jAITwv-",
        "colab": {
          "base_uri": "https://localhost:8080/"
        },
        "outputId": "efb1e905-c126-410f-bae0-f159c1fd6c6c"
      },
      "execution_count": 1,
      "outputs": [
        {
          "output_type": "stream",
          "name": "stdout",
          "text": [
            "\n",
            "--- Car Details ---\n",
            "Brand: Toyota, Model: Camry, Year: 2022, Speed: 0\n",
            "Car accelerated! New speed: 10\n",
            "Car slowed down. New speed: 5\n",
            "\n",
            "--- Bike Details ---\n",
            "Brand: Yamaha, Model: MT-15, Year: 2023, Speed: 0\n",
            "Bike accelerated! New speed: 5\n",
            "Bike slowed down. New speed: 2\n"
          ]
        }
      ]
    },
    {
      "cell_type": "code",
      "source": [],
      "metadata": {
        "id": "pxgP5m5MT4NO"
      },
      "execution_count": null,
      "outputs": []
    }
  ]
}