{
  "nbformat": 4,
  "nbformat_minor": 0,
  "metadata": {
    "colab": {
      "provenance": []
    },
    "kernelspec": {
      "name": "python3",
      "display_name": "Python 3"
    },
    "language_info": {
      "name": "python"
    }
  },
  "cells": [
    {
      "cell_type": "code",
      "execution_count": 2,
      "metadata": {
        "colab": {
          "base_uri": "https://localhost:8080/"
        },
        "id": "01xksxgb5sKU",
        "outputId": "0a82270d-d72c-40d7-e022-cf69868eda31"
      },
      "outputs": [
        {
          "output_type": "stream",
          "name": "stdout",
          "text": [
            "Hello 'World'\n",
            "No\n"
          ]
        }
      ],
      "source": [
        "def is_palindrome(sentence: str) ->str:\n",
        "  modified = ''.join(filter(str.isalpha,sentence)).lower()\n",
        "  #i am \"boy\" modified = iamboy\n",
        "  return \"YES\" if modified == modified[::-1] else \"No\"\n",
        "\n",
        "sentence = input().strip()\n",
        "print(is_palindrome(sentence))"
      ]
    },
    {
      "cell_type": "code",
      "source": [],
      "metadata": {
        "id": "xRC8wGMH8-X4"
      },
      "execution_count": null,
      "outputs": []
    }
  ]
}